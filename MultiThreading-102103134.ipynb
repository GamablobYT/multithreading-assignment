{
 "cells": [
  {
   "cell_type": "markdown",
   "id": "94592c96",
   "metadata": {},
   "source": [
    "# Assignment-Multi-Threading\n",
    "\n",
    "Name: Sahil Manchanda <br>\n",
    "Group: 3CO5 <br>\n",
    "Roll No. 102103134"
   ]
  },
  {
   "cell_type": "code",
   "execution_count": 1,
   "id": "367a7a49",
   "metadata": {},
   "outputs": [],
   "source": [
    "import numpy as np\n",
    "import pandas as pd\n",
    "import time\n",
    "import threading\n",
    "import random as r\n",
    "import psutil\n",
    "import matplotlib.pyplot as plt"
   ]
  },
  {
   "cell_type": "code",
   "execution_count": 2,
   "id": "d631a317",
   "metadata": {},
   "outputs": [],
   "source": [
    "def generate_random_matrices(n, size):\n",
    "    matrices = []\n",
    "    for _ in range(n):\n",
    "        matrices.append(np.random.rand(size, size))\n",
    "    return matrices\n",
    "\n",
    "def multiply_matrices(matrices):\n",
    "    constant_matrix = np.random.rand(matrix_size, matrix_size)\n",
    "    result = constant_matrix.copy()\n",
    "    for matrix in matrices:\n",
    "        result = np.dot(result, matrix)\n",
    "    return result\n",
    "\n",
    "def perform_multiplication_with_threads(num_threads, matrices):\n",
    "    \"\"\"\n",
    "    Performs matrix multiplication using multiple threads.\n",
    "\n",
    "    Parameters:\n",
    "    num_threads (int): Number of threads to use.\n",
    "    matrices (list): List of matrices to multiply.\n",
    "\n",
    "    Returns:\n",
    "    float: Time taken to perform multiplication.\n",
    "    \"\"\"\n",
    "    start_time = time.time()\n",
    "    threads = []\n",
    "    for i in range(0, len(matrices), num_threads):\n",
    "        thread = threading.Thread(target=multiply_matrices, args=(matrices[i:i+num_threads],))\n",
    "        threads.append(thread)\n",
    "        thread.start()\n",
    "\n",
    "    for thread in threads:\n",
    "        thread.join()\n",
    "    end_time = time.time()\n",
    "    return end_time - start_time"
   ]
  },
  {
   "cell_type": "code",
   "execution_count": 3,
   "id": "cfe317eb",
   "metadata": {},
   "outputs": [],
   "source": [
    "num_matrices = 100\n",
    "matrix_size = 1000\n",
    "matrices=generate_random_matrices(num_matrices,matrix_size)"
   ]
  },
  {
   "cell_type": "code",
   "execution_count": 4,
   "id": "795cf68a",
   "metadata": {},
   "outputs": [],
   "source": [
    "# Get the number of CPU cores\n",
    "import multiprocessing\n",
    "num_cores = multiprocessing.cpu_count()"
   ]
  },
  {
   "cell_type": "code",
   "execution_count": 5,
   "id": "cdcb964b",
   "metadata": {},
   "outputs": [],
   "source": [
    "# Perform multiplication with different numbers of threads\n",
    "results = {}\n",
    "cpu_usages = {}\n",
    "for num_threads in range(1, num_cores + 1):\n",
    "    # Monitor CPU usage\n",
    "    start_cpu_usage = psutil.cpu_percent()\n",
    "    time_taken = perform_multiplication_with_threads(num_threads, matrices)\n",
    "    end_cpu_usage = psutil.cpu_percent()\n",
    "    \n",
    "    results[num_threads] = time_taken\n",
    "    cpu_usages[num_threads] = (start_cpu_usage + end_cpu_usage) / 2  # Average CPU usage during the operation"
   ]
  },
  {
   "cell_type": "code",
   "execution_count": 6,
   "id": "21a2ac0f",
   "metadata": {},
   "outputs": [],
   "source": [
    "# Create DataFrame\n",
    "df = pd.DataFrame.from_dict(results, orient='index', columns=['Time Taken (s)'])\n",
    "df['CPU Usage (%)'] = cpu_usages\n",
    "df.index.name = 'Threads'"
   ]
  },
  {
   "cell_type": "code",
   "execution_count": 7,
   "id": "5fc235d9",
   "metadata": {},
   "outputs": [
    {
     "name": "stdout",
     "output_type": "stream",
     "text": [
      "Time taken for matrix multiplication with varying number of threads and CPU usage:\n",
      "         Time Taken (s)  CPU Usage (%)\n",
      "Threads                               \n",
      "1              0.965183              1\n",
      "2              0.706895              2\n",
      "3              0.660329              3\n",
      "4              0.616232              4\n",
      "5              0.621109              5\n",
      "6              0.602270              6\n",
      "7              0.629634              7\n",
      "8              0.597237              8\n",
      "9              0.636329              9\n",
      "10             0.619704             10\n",
      "11             0.611365             11\n",
      "12             0.607376             12\n",
      "13             0.590421             13\n",
      "14             0.615140             14\n",
      "15             0.613360             15\n",
      "16             0.607376             16\n"
     ]
    }
   ],
   "source": [
    "# Print the results\n",
    "print(\"Time taken for matrix multiplication with varying number of threads and CPU usage:\")\n",
    "print(df)"
   ]
  },
  {
   "cell_type": "markdown",
   "id": "d759b0ed",
   "metadata": {},
   "source": [
    "### Time taken vs Number of threads\n",
    "Time taken vs Number of Threads: Shows how the time taken for matrix multiplication varies with the number of threads."
   ]
  },
  {
   "cell_type": "code",
   "execution_count": 8,
   "id": "9a951c3d",
   "metadata": {},
   "outputs": [
    {
     "data": {
      "text/plain": [
       "Text(0.5, 1.0, 'Time Taken vs Number of Threads')"
      ]
     },
     "execution_count": 8,
     "metadata": {},
     "output_type": "execute_result"
    },
    {
     "data": {
      "image/png": "[encoded data removed]",
      "text/plain": [
       "<Figure size 864x576 with 1 Axes>"
      ]
     },
     "metadata": {
      "needs_background": "light"
     },
     "output_type": "display_data"
    }
   ],
   "source": [
    "plt.figure(figsize=(12, 8))\n",
    "plt.subplot(2, 2, 1)\n",
    "plt.plot(df.index, df['Time Taken (s)'], marker='o', color='b')\n",
    "plt.xlabel('Number of Threads')\n",
    "plt.ylabel('Time Taken (s)')\n",
    "plt.title('Time Taken vs Number of Threads')"
   ]
  },
  {
   "cell_type": "markdown",
   "id": "7bf8cba7",
   "metadata": {},
   "source": [
    "### CPU Usage vs Number of Threads"
   ]
  },
  {
   "cell_type": "code",
   "execution_count": 9,
   "id": "a3884da7",
   "metadata": {},
   "outputs": [
    {
     "data": {
      "text/plain": [
       "Text(0.5, 1.0, 'CPU Usage vs Number of Threads')"
      ]
     },
     "execution_count": 9,
     "metadata": {},
     "output_type": "execute_result"
    },
    {
     "data": {
      "image/png": "[encoded data removed]",
      "text/plain": [
       "<Figure size 432x288 with 1 Axes>"
      ]
     },
     "metadata": {
      "needs_background": "light"
     },
     "output_type": "display_data"
    }
   ],
   "source": [
    "plt.subplot(2, 2, 2)\n",
    "plt.plot(df.index, df['CPU Usage (%)'], marker='o', color='r')\n",
    "plt.xlabel('Number of Threads')\n",
    "plt.ylabel('CPU Usage (%)')\n",
    "plt.title('CPU Usage vs Number of Threads')"
   ]
  },
  {
   "cell_type": "markdown",
   "id": "c5f1873d",
   "metadata": {},
   "source": [
    "### Speedup\n",
    "Speedup vs Number of Threads: Calculates speedup as the ratio of the time taken with one thread to the time taken with varying numbers of threads, showing how the computation speed scales with increasing threads."
   ]
  },
  {
   "cell_type": "code",
   "execution_count": 10,
   "id": "2b35805b",
   "metadata": {},
   "outputs": [
    {
     "data": {
      "text/plain": [
       "Text(0.5, 1.0, 'Speedup vs Number of Threads')"
      ]
     },
     "execution_count": 10,
     "metadata": {},
     "output_type": "execute_result"
    },
    {
     "data": {
      "image/png": "[encoded data removed]",
      "text/plain": [
       "<Figure size 432x288 with 1 Axes>"
      ]
     },
     "metadata": {
      "needs_background": "light"
     },
     "output_type": "display_data"
    }
   ],
   "source": [
    "# Plot 2: Speedup\n",
    "speedup = df.iloc[0, 0] / df['Time Taken (s)']\n",
    "plt.subplot(2, 1, 2)\n",
    "plt.plot(df.index, speedup, marker='o', color='r')\n",
    "plt.xlabel('Number of Threads')\n",
    "plt.ylabel('Speedup')\n",
    "plt.title('Speedup vs Number of Threads')"
   ]
  },
  {
   "cell_type": "markdown",
   "id": "feed337b",
   "metadata": {},
   "source": [
    "### Efficiency\n",
    "Efficiency measures how effectively the available resources are utilized. It's calculated as the ratio of speedup to the number of threads used."
   ]
  },
  {
   "cell_type": "code",
   "execution_count": 11,
   "id": "94905c87",
   "metadata": {},
   "outputs": [
    {
     "data": {
      "text/plain": [
       "Text(0.5, 1.0, 'Efficiency vs Number of Threads')"
      ]
     },
     "execution_count": 11,
     "metadata": {},
     "output_type": "execute_result"
    },
    {
     "data": {
      "image/png": "[encoded data removed]",
      "text/plain": [
       "<Figure size 432x288 with 1 Axes>"
      ]
     },
     "metadata": {
      "needs_background": "light"
     },
     "output_type": "display_data"
    }
   ],
   "source": [
    "efficiency = speedup / df.index\n",
    "plt.subplot(2, 2, 3)\n",
    "plt.plot(df.index, efficiency, marker='o', color='g')\n",
    "plt.xlabel('Number of Threads')\n",
    "plt.ylabel('Efficiency')\n",
    "plt.title('Efficiency vs Number of Threads')"
   ]
  },
  {
   "cell_type": "markdown",
   "id": "a5af401d",
   "metadata": {},
   "source": [
    "### Scalability\n",
    "Scalability shows how well the system can handle an increasing workload. It's represented by the inverse of the time taken, demonstrating how performance scales with the number of threads."
   ]
  },
  {
   "cell_type": "code",
   "execution_count": 12,
   "id": "d15cf134",
   "metadata": {},
   "outputs": [
    {
     "data": {
      "text/plain": [
       "Text(0.5, 1.0, 'Scalability vs Number of Threads')"
      ]
     },
     "execution_count": 12,
     "metadata": {},
     "output_type": "execute_result"
    },
    {
     "data": {
      "image/png": "[encoded data removed]",
      "text/plain": [
       "<Figure size 432x288 with 1 Axes>"
      ]
     },
     "metadata": {
      "needs_background": "light"
     },
     "output_type": "display_data"
    }
   ],
   "source": [
    "# Plot 4: Scalability\n",
    "scalability = 1 / df['Time Taken (s)']\n",
    "plt.subplot(2, 2, 4)\n",
    "plt.plot(df.index, scalability, marker='o', color='purple')\n",
    "plt.xlabel('Number of Threads')\n",
    "plt.ylabel('Scalability')\n",
    "plt.title('Scalability vs Number of Threads')"
   ]
  }
 ],
 "metadata": {
  "kernelspec": {
   "display_name": "Python 3 (ipykernel)",
   "language": "python",
   "name": "python3"
  },
  "language_info": {
   "codemirror_mode": {
    "name": "ipython",
    "version": 3
   },
   "file_extension": ".py",
   "mimetype": "text/x-python",
   "name": "python",
   "nbconvert_exporter": "python",
   "pygments_lexer": "ipython3",
   "version": "3.9.7"
  }
 },
 "nbformat": 4,
 "nbformat_minor": 5
}
